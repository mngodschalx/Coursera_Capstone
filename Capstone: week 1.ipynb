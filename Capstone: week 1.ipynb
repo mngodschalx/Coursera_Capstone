{
    "cells": [
        {
            "cell_type": "markdown",
            "metadata": {
                "collapsed": true
            },
            "source": "# Finding the ideal location for a women's store in Manhattan, New York"
        },
        {
            "cell_type": "markdown",
            "metadata": {},
            "source": "## 1. Introduction\n"
        },
        {
            "cell_type": "markdown",
            "metadata": {},
            "source": "### 1.1 Background\nThis project aims to identify the most optimal location for a new woman's clothing store in Manhattan, New York City. The store targets the female population aged between 25 and 50 years old and the price of the merchandise will range from $100 to $500. "
        },
        {
            "cell_type": "markdown",
            "metadata": {},
            "source": "### 1.2 Problem\nNew York is one of the world\u2019s premier shopping destinations, but the retail sector has been challenging, especially for those selling merchandise. Consumer behavior has increasingly shifted from brick-and-mortar stores to online retailers[^1]. However, a physical store is not only a place where customers transact, it also brings brand marketing benefits that could convert directly to online sales[^2]. The location of the store is important to attract the right quality and quantity of foot traffic[^3], i.e potential customers. \n\nAs the store targets the above medium-income female population between 25 and 50 years old, this project aims to identify the neighborhood where the target audience lives and is likely to spend its spare time dinning and shopping. \n\n[^1]: https://www.osc.state.ny.us/reports/osdc/retail-sector-new-york-city-recent-trends-and-impact-covid-19\n[^2]: https://www.retailgazette.co.uk/blog/2019/09/just-how-important-is-a-retailers-location-location-location/#:~:text=It's%20commonly%20believed%20good%20location,it%20faces%20from%20other%20businesses.\n[^3]: https://www.getdor.com/blog/2019/12/05/factors-affect-foot-traffic/"
        },
        {
            "cell_type": "markdown",
            "metadata": {},
            "source": "### 1.3 Research Question\nWhat is the most optimal location for a new woman's clothing store in Manhattan, New York City?"
        },
        {
            "cell_type": "markdown",
            "metadata": {},
            "source": "## 2. Data Description\nTo identify the most optimal location for a new women's store in Manhattan, New York four datasets will be used. These datasets are free and publicly available."
        },
        {
            "cell_type": "markdown",
            "metadata": {},
            "source": "### 2.1 Manhattan demographic and socio-economic characteristics by Community Districts\nThe first dataset is will be used to identify the quality of the foot traffic per neighborhood based on gender, age and medium income. The dataset is derived from the American Community Survey (ACS) conducted by the U.S. Census Bureau. The ACS is an annual survey that collects information about personal and housing characteristics of a sample of one in 40 housing units. The data contains the 2019 1-Year Estimates and was geographically specified on the level of Public Use Micro Areas (PUMA) to the 10 NYC-Manhattan Communnity Districts as shown in the table below. Please note that U.S. Census Bureau combines the Community Districts Manhattan 1 and 2, and Manhattan 7 and 8, into two sub-borough areas to improve sampling and protect the confidentiality of respondents [^4]. The following two tables were retrieved from https://data.census.gov/cedsci/all on 05/02/2021.\n\nB01001 (Age by Sex): displays the distribution of the male and female population in each community district. The data will be used to identify where our target audience (female between 25 and 50 years) live.\n\nB19001 (Median Income): displays the medium income in each community district. The data will be used to identify how much our target audience could spend.\n\n[^4]: https://furmancenter.org/stateofthecity/view/rankings-data-and-methods"
        },
        {
            "cell_type": "markdown",
            "metadata": {},
            "source": "### 2.2 Manhattan Neighborhoods by Community District\nThe second dataset was retrieved from webscraping https://en.wikipedia.org/wiki/Community_boards_of_Manhattan and lists all Manhattan Neighborhoods per Community District. The demographic and socio-economic characteristics from each Community District can be assigned to the neighborhoods of each Community District. \n\nThe scrape resulted in 112 rows and was coverted into 2 columns and 65 rows, representing the 12 Community District and 63 unique Neighborhoods. Closer inspection revealed that the neighborhoods Murray Hill and Gramercy are both in Community District 5 and 6. This means that for these two neighborhoods the demographic and socio-economic data should be an average of Community District 5 and 6. "
        },
        {
            "cell_type": "markdown",
            "metadata": {},
            "source": "### 2.3 Manhattan Neighborhood Bounderies\nThe third dataset was retrieved from https://cocl.us/new_york_dataset and defines the longitude and latitude of each neighborhood. These location data points are used to define the parameters for the data from Foursquare to locate nearby venues. The proximity to other shops, restaurants, and other kind of venues will affect the attractiveness of the new location for the store.\n\nThe initial dataset included all 5 boroughs and 306 neighborhoods of New York City. After filtering to data to only include the neighborhoods of Manhattan, 40 neighborhoods were identified. The number of neighborhoods does not correspodent with the 65 neighborhoods found in 2.2. Closer inspection revealed that the 25 additional neighborhoods are parks, islands or located within a neighborhood. It was therefore decided to only include the 40 neighborhoods from this dataset."
        },
        {
            "cell_type": "markdown",
            "metadata": {},
            "source": "### 2.4 Manhattan Venues\nThe fourth dataset will be used to identify the quantity of foot traffic per neighborhood and is compiled using the Foursquare API. By identifying the top 50 shopping and restaurant venues within a 1000-meter radius of each neighborhood, the foot traffic can be determined. The higher the quantity foot traffic in the neighborhood, the more likely the the store will succeed. "
        }
    ],
    "metadata": {
        "kernelspec": {
            "display_name": "Python 3.7",
            "language": "python",
            "name": "python3"
        },
        "language_info": {
            "codemirror_mode": {
                "name": "ipython",
                "version": 3
            },
            "file_extension": ".py",
            "mimetype": "text/x-python",
            "name": "python",
            "nbconvert_exporter": "python",
            "pygments_lexer": "ipython3",
            "version": "3.7.10"
        }
    },
    "nbformat": 4,
    "nbformat_minor": 1
}